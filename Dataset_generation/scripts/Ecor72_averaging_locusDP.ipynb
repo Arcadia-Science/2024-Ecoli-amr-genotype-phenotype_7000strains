{
 "cells": [
  {
   "cell_type": "markdown",
   "id": "47e93965-17b9-4b91-8de8-cdf90bc76845",
   "metadata": {},
   "source": [
    "# Notebook description\n",
    "\n",
    "### Objective \n",
    "\n",
    "This notebook processes the per nucleotide DP information obtained for the 72 ECOR strains.\n",
    "It calculates for each locus the average read depth as the sum of reads per nucleotide divided by the locus length.\n",
    "\n",
    "### Notebook organization\n",
    "**Environment setup**:\n",
    "This parts load the required packages\n",
    "The package data.table allows R to deal and load large dataframes\n",
    "\n",
    "**Function definition**\n",
    "This parts defines the function to use to calculate the average read depth (DP) per locus in an array that contains DP information for multiple strains (as columns).\n",
    "\n",
    "**Importing Locus names**\n",
    "Imports the names of all the loci in the pangenome and generate a vector containing this information\n",
    "\n",
    "**ECOR_1**\n",
    "This part import and processes DP information for the first 40 ECOR strains\n",
    "Because, the dataset is too large to be loaded as a single data.frame, we first import the first 40 strains\n",
    "\n",
    "**ECOR_2**\n",
    "This part import and processes DP information for the last 32 ECOR strains\n",
    "\n"
   ]
  },
  {
   "cell_type": "markdown",
   "id": "594ae743-f2aa-4aca-b2ed-042b219453a1",
   "metadata": {},
   "source": [
    "---"
   ]
  },
  {
   "cell_type": "markdown",
   "id": "6a83bd42-6b8c-4c7d-ad86-89c248bdb827",
   "metadata": {},
   "source": [
    "## Environment setup"
   ]
  },
  {
   "cell_type": "markdown",
   "id": "44c65d3b",
   "metadata": {},
   "source": [
    "This parts load the required packages. \n",
    "The package data.table allows R to deal and load large dataframes"
   ]
  },
  {
   "cell_type": "code",
   "execution_count": null,
   "id": "d1e38923-a915-464c-89dd-d9543445dbe5",
   "metadata": {
    "vscode": {
     "languageId": "r"
    }
   },
   "outputs": [
    {
     "name": "stderr",
     "output_type": "stream",
     "text": [
      "── \u001b[1mAttaching core tidyverse packages\u001b[22m ────────────────────────────────────────────────────────────────────────────────── tidyverse 2.0.0 ──\n",
      "\u001b[32m✔\u001b[39m \u001b[34mdplyr    \u001b[39m 1.1.4     \u001b[32m✔\u001b[39m \u001b[34mreadr    \u001b[39m 2.1.5\n",
      "\u001b[32m✔\u001b[39m \u001b[34mforcats  \u001b[39m 1.0.0     \u001b[32m✔\u001b[39m \u001b[34mstringr  \u001b[39m 1.5.1\n",
      "\u001b[32m✔\u001b[39m \u001b[34mggplot2  \u001b[39m 3.5.1     \u001b[32m✔\u001b[39m \u001b[34mtibble   \u001b[39m 3.2.1\n",
      "\u001b[32m✔\u001b[39m \u001b[34mlubridate\u001b[39m 1.9.3     \u001b[32m✔\u001b[39m \u001b[34mtidyr    \u001b[39m 1.3.1\n",
      "\u001b[32m✔\u001b[39m \u001b[34mpurrr    \u001b[39m 1.0.2     \n",
      "── \u001b[1mConflicts\u001b[22m ──────────────────────────────────────────────────────────────────────────────────────────────────── tidyverse_conflicts() ──\n",
      "\u001b[31m✖\u001b[39m \u001b[34mdplyr\u001b[39m::\u001b[32mfilter()\u001b[39m masks \u001b[34mstats\u001b[39m::filter()\n",
      "\u001b[31m✖\u001b[39m \u001b[34mdplyr\u001b[39m::\u001b[32mlag()\u001b[39m    masks \u001b[34mstats\u001b[39m::lag()\n",
      "\u001b[36mℹ\u001b[39m Use the conflicted package (\u001b[3m\u001b[34m<http://conflicted.r-lib.org/>\u001b[39m\u001b[23m) to force all conflicts to become errors\n",
      "\n",
      "Attaching package: ‘data.table’\n",
      "\n",
      "\n",
      "The following objects are masked from ‘package:lubridate’:\n",
      "\n",
      "    hour, isoweek, mday, minute, month, quarter, second, wday, week,\n",
      "    yday, year\n",
      "\n",
      "\n",
      "The following objects are masked from ‘package:dplyr’:\n",
      "\n",
      "    between, first, last\n",
      "\n",
      "\n",
      "The following object is masked from ‘package:purrr’:\n",
      "\n",
      "    transpose\n",
      "\n",
      "\n"
     ]
    }
   ],
   "source": [
    "library(tidyverse)\n",
    "library(data.table)"
   ]
  },
  {
   "cell_type": "markdown",
   "id": "48f4fa33",
   "metadata": {},
   "source": [
    "--- "
   ]
  },
  {
   "cell_type": "markdown",
   "id": "356528d0-f068-41ab-82df-16c38d6653ae",
   "metadata": {},
   "source": [
    "## Function definition"
   ]
  },
  {
   "cell_type": "markdown",
   "id": "4a2db3f0",
   "metadata": {},
   "source": [
    "Here we define the function that calculates the average number of reads per locus."
   ]
  },
  {
   "cell_type": "code",
   "execution_count": null,
   "id": "fcff6af6",
   "metadata": {
    "vscode": {
     "languageId": "r"
    }
   },
   "outputs": [],
   "source": [
    "# Function : Calculating the average number of read/nucleotide for each locus and strain\n",
    "## This function uses a for loop to treat each locus one by one, and calculate the average DP for this locus in each strain of the array\n",
    "\n",
    "av_coverage=function(array_ecor,Loci){\n",
    "  array_ecor$Loc_name=sub(\"_\\\\d+$\", \"\", array_ecor$LOCUS) #simplifies the LOCUS name to keep only the first part of the name (before the \"_\") - This is necessary for the Locus name in the array to match with the locus name in the pangenome\n",
    "  \n",
    "  \n",
    "  df_av_cov=data.frame() #starts an empty dataframe to fill it the for loop\n",
    "  for (i in 1: length(Loci)){\n",
    "    Loc=Loci[i] \n",
    "    df_temp=subset(array_ecor, array_ecor$Loc_name==Loc)\n",
    "    coverage_means<- sapply(df_temp, function(x) if(is.integer(x)) mean(x) else NA)\n",
    "    coverage_means_df=as.data.frame(t(coverage_means))\n",
    "    coverage_means_df$LOCUS=Loc\n",
    "    coverage_means_df = coverage_means_df %>% select(-last_col())\n",
    "   \n",
    "    df_av_cov=rbind(df_av_cov,coverage_means_df)\n",
    "   \n",
    "    if (i %% 1000 == 0) {\n",
    "      print(i) \n",
    "    }\n",
    "  }\n",
    "  df_av_cov\n",
    "}\n",
    "                       \n",
    "\n",
    "                            "
   ]
  },
  {
   "cell_type": "markdown",
   "id": "81987c7c",
   "metadata": {},
   "source": [
    "---"
   ]
  },
  {
   "cell_type": "markdown",
   "id": "2f84e7c7",
   "metadata": {},
   "source": [
    "## Importing Locus names"
   ]
  },
  {
   "cell_type": "markdown",
   "id": "56238891",
   "metadata": {},
   "source": [
    "In this section, we import the names of all the loci in the pangenome and generate a vector containing this information"
   ]
  },
  {
   "cell_type": "markdown",
   "id": "81cd3d9c",
   "metadata": {},
   "source": [
    "For the function to work, we need to provide it with a vector containing all the loci names.\n",
    "These are available in the pangenome presence-absence csv file whole_pan_ecor_presence_absence.csv"
   ]
  },
  {
   "cell_type": "code",
   "execution_count": null,
   "id": "8e153b98",
   "metadata": {
    "vscode": {
     "languageId": "r"
    }
   },
   "outputs": [],
   "source": [
    "pan_pres_ab=read.csv('dataset_generation/data/dp_threshold/whole_pan_ecor_presence_absence.csv')\n",
    "\n",
    "Loci=c(unique(pan_pres_ab$Locus))"
   ]
  },
  {
   "cell_type": "markdown",
   "id": "d2d5ea76",
   "metadata": {},
   "source": [
    "--- "
   ]
  },
  {
   "cell_type": "markdown",
   "id": "6185d96e-08f2-461f-b9d3-8c264b835b46",
   "metadata": {},
   "source": [
    "## ECOR_1\n",
    "This part import and processes DP information for the first 40 ECOR strains. \n",
    "\n",
    "Because loading the full array with all 72 strains is too computationally intensive, we first focus on the first 40 strains in the original array ecor72_array.txt "
   ]
  },
  {
   "cell_type": "code",
   "execution_count": null,
   "id": "4acd3376-e54d-4b45-9286-f15f242cbf06",
   "metadata": {
    "vscode": {
     "languageId": "r"
    }
   },
   "outputs": [],
   "source": [
    "#Importing the first 40 strains\n",
    "array_ecor_1=fread('data_generation/results/ecor72_DP/ecor72_array.txt',sep=\"\\t\",\n",
    "                 select=1:41)"
   ]
  },
  {
   "cell_type": "markdown",
   "id": "dd8feac3-e680-42e8-8622-cea7aa1d5568",
   "metadata": {},
   "source": [
    "### Data formating\n",
    "We reformat the data before calculating the average read depth per locus per strain"
   ]
  },
  {
   "cell_type": "code",
   "execution_count": null,
   "id": "cb2cf993-aa87-47bd-944e-127d36ecb2d4",
   "metadata": {
    "vscode": {
     "languageId": "r"
    }
   },
   "outputs": [],
   "source": [
    "# Adjusting the names of the columns of array_ecor to keep only the sample ID\n",
    "\n",
    "current_names <- colnames(array_ecor_1)\n",
    "\n",
    "# Remove the path and the file extension\n",
    "        # This captures the part after the last slash and removes the '.txt' extension\n",
    "short_names <- gsub(\"^.*/(.*)\\\\.txt$\", \"\\\\1\", current_names)\n",
    "\n",
    "# Assign the cleaned names back to array_ecor\n",
    "colnames(array_ecor_1) <- short_names\n",
    "\n",
    "# Check the new column names\n",
    "print(colnames(array_ecor_1))"
   ]
  },
  {
   "cell_type": "markdown",
   "id": "4c144ed9-a528-4334-bd41-21e72fa1db5a",
   "metadata": {},
   "source": [
    "### Data Processing\n"
   ]
  },
  {
   "cell_type": "markdown",
   "id": "c7e359da",
   "metadata": {},
   "source": [
    "We process the read depth data for the first 40 strains using the function av_coverage to obtain the average read depth per locus for each strain and eventually save that information into a csv file"
   ]
  },
  {
   "cell_type": "code",
   "execution_count": null,
   "id": "2d69d201-040d-4625-aadd-1eabdd36358e",
   "metadata": {
    "vscode": {
     "languageId": "r"
    }
   },
   "outputs": [],
   "source": [
    "df_av_cov_ecor_1=av_coverage(array_ecor_1,Loci)"
   ]
  },
  {
   "cell_type": "code",
   "execution_count": null,
   "id": "959da612-7937-43dc-8464-45c35045dd70",
   "metadata": {
    "vscode": {
     "languageId": "r"
    }
   },
   "outputs": [],
   "source": [
    "dim(df_av_cov_ecor_1)"
   ]
  },
  {
   "cell_type": "code",
   "execution_count": null,
   "id": "e5655d0b-550f-4147-a20d-1a5b23bfcc30",
   "metadata": {
    "vscode": {
     "languageId": "r"
    }
   },
   "outputs": [],
   "source": [
    "head(df_av_cov_ecor_1)"
   ]
  },
  {
   "cell_type": "code",
   "execution_count": null,
   "id": "b05fdff5-4c63-4f66-8ce8-c7b39f92f0ff",
   "metadata": {
    "vscode": {
     "languageId": "r"
    }
   },
   "outputs": [],
   "source": [
    "write.csv(df_av_cov_ecor_1,'dataset_generation/data/dp_threshold/average_coverage_41.csv')"
   ]
  },
  {
   "cell_type": "markdown",
   "id": "d1499ba3",
   "metadata": {},
   "source": [
    "--- "
   ]
  },
  {
   "cell_type": "markdown",
   "id": "199c1cc3",
   "metadata": {},
   "source": [
    "## ECOR_2\n",
    "This part import and processes DP information for the last 32 ECOR strains"
   ]
  },
  {
   "cell_type": "code",
   "execution_count": null,
   "id": "8304a1f0-e1f1-4fa3-92bb-618e3ded5afe",
   "metadata": {
    "vscode": {
     "languageId": "r"
    }
   },
   "outputs": [],
   "source": [
    "#Importing the last 32 strains\n",
    "array_ecor2 <- fread('data_generation/results/ecor72_DP/ecor72_array.txt', sep = \"\\t\", select = c(1, 42:73))"
   ]
  },
  {
   "cell_type": "markdown",
   "id": "7e87ff22",
   "metadata": {},
   "source": [
    "### Data formating\n",
    "We reformat the data before calculating the average read depth per locus per strain"
   ]
  },
  {
   "cell_type": "code",
   "execution_count": null,
   "id": "b39795e4-4a94-40f7-9365-50f0d9849ecb",
   "metadata": {
    "vscode": {
     "languageId": "r"
    }
   },
   "outputs": [],
   "source": [
    "# Adjusting the names of the columns of array_ecor to keep only the sample ID\n",
    "\n",
    "current_names <- colnames(array_ecor2)\n",
    "\n",
    "# Remove the path and the file extension\n",
    "        # This captures the part after the last slash and removes the '.txt' extension\n",
    "short_names <- gsub(\"^.*/(.*)\\\\.txt$\", \"\\\\1\", current_names)\n",
    "\n",
    "# Assign the cleaned names back to array_ecor\n",
    "colnames(array_ecor2) <- short_names\n",
    "\n",
    "# Check the new column names\n",
    "print(colnames(array_ecor2))"
   ]
  },
  {
   "cell_type": "markdown",
   "id": "e37e88ef",
   "metadata": {},
   "source": [
    "### Data Processing"
   ]
  },
  {
   "cell_type": "markdown",
   "id": "06521b83",
   "metadata": {},
   "source": [
    "We process the read depth data for the last 32 strains using the function av_coverage to obtain the average read depth per locus for each strain and eventually save that information into a csv file."
   ]
  },
  {
   "cell_type": "code",
   "execution_count": null,
   "id": "81779ad3",
   "metadata": {
    "vscode": {
     "languageId": "r"
    }
   },
   "outputs": [],
   "source": [
    "df_av_cov_ecor_2=av_coverage(array_ecor_2,Loci)"
   ]
  },
  {
   "cell_type": "code",
   "execution_count": null,
   "id": "727ed94f",
   "metadata": {
    "vscode": {
     "languageId": "r"
    }
   },
   "outputs": [],
   "source": [
    "dim(df_av_cov_ecor_2)"
   ]
  },
  {
   "cell_type": "code",
   "execution_count": null,
   "id": "a45686c9",
   "metadata": {
    "vscode": {
     "languageId": "r"
    }
   },
   "outputs": [],
   "source": [
    "head(df_av_cov_ecor_2)"
   ]
  },
  {
   "cell_type": "markdown",
   "id": "666f61b0",
   "metadata": {},
   "source": [
    "write.csv(df_av_cov_ecor_1,'dataset_generation/data/dp_threshold/average_coverage_last32.csv')"
   ]
  },
  {
   "cell_type": "markdown",
   "id": "fd1871f3",
   "metadata": {},
   "source": [
    "--- "
   ]
  },
  {
   "cell_type": "code",
   "execution_count": null,
   "id": "39e48c88",
   "metadata": {
    "vscode": {
     "languageId": "r"
    }
   },
   "outputs": [],
   "source": [
    "sessionInfo()"
   ]
  },
  {
   "cell_type": "markdown",
   "id": "ab9a4c80",
   "metadata": {},
   "source": [
    "R version 4.3.3 (2024-02-29)\n",
    "Platform: x86_64-conda-linux-gnu (64-bit)\n",
    "Running under: Ubuntu 22.04.4 LTS\n",
    "\n",
    "Matrix products: default\n",
    "BLAS/LAPACK: /home/manon-morin/miniforge3/envs/r_env/lib/libopenblasp-r0.3.27.so;  LAPACK version 3.12.0\n",
    "\n",
    "locale:\n",
    " [1] LC_CTYPE=en_US.UTF-8       LC_NUMERIC=C              \n",
    " [3] LC_TIME=en_US.UTF-8        LC_COLLATE=en_US.UTF-8    \n",
    " [5] LC_MONETARY=en_US.UTF-8    LC_MESSAGES=en_US.UTF-8   \n",
    " [7] LC_PAPER=en_US.UTF-8       LC_NAME=C                 \n",
    " [9] LC_ADDRESS=C               LC_TELEPHONE=C            \n",
    "[11] LC_MEASUREMENT=en_US.UTF-8 LC_IDENTIFICATION=C       \n",
    "\n",
    "time zone: America/Los_Angeles\n",
    "tzcode source: system (glibc)\n",
    "\n",
    "attached base packages:\n",
    "[1] stats     graphics  grDevices utils     datasets  methods   base     \n",
    "\n",
    "other attached packages:\n",
    " [1] data.table_1.15.4 lubridate_1.9.3   forcats_1.0.0     stringr_1.5.1    \n",
    " [5] dplyr_1.1.4       purrr_1.0.2       readr_2.1.5       tidyr_1.3.1      \n",
    " [9] tibble_3.2.1      ggplot2_3.5.1     tidyverse_2.0.0  \n",
    "\n",
    "loaded via a namespace (and not attached):\n",
    " [1] gtable_0.3.5      jsonlite_1.8.8    compiler_4.3.3    crayon_1.5.2     \n",
    " [5] tidyselect_1.2.1  IRdisplay_1.1     scales_1.3.0      uuid_1.2-0       \n",
    " [9] fastmap_1.2.0     IRkernel_1.3.2    R6_2.5.1          generics_0.1.3   \n",
    "[13] munsell_0.5.1     pillar_1.9.0      tzdb_0.4.0        rlang_1.1.4      \n",
    "[17] utf8_1.2.4        stringi_1.8.4     repr_1.1.7        timechange_0.3.0 \n",
    "[21] cli_3.6.2         withr_3.0.0       magrittr_2.0.3    digest_0.6.35    \n",
    "[25] grid_4.3.3        base64enc_0.1-3   hms_1.1.3         pbdZMQ_0.3-11    \n",
    "[29] lifecycle_1.0.4   vctrs_0.6.5       evaluate_0.24.0   glue_1.7.0       \n",
    "[33] fansi_1.0.6       colorspace_2.1-0  tools_4.3.3       pkgconfig_2.0.3  \n",
    "[37] htmltools_0.5.8.1\n"
   ]
  },
  {
   "cell_type": "code",
   "execution_count": null,
   "id": "b889789c",
   "metadata": {
    "vscode": {
     "languageId": "r"
    }
   },
   "outputs": [],
   "source": []
  },
  {
   "cell_type": "markdown",
   "id": "02452594-04ce-4f1f-b2ff-94745904f2a3",
   "metadata": {},
   "source": [
    "---"
   ]
  }
 ],
 "metadata": {
  "kernelspec": {
   "display_name": "R",
   "language": "R",
   "name": "ir"
  },
  "language_info": {
   "codemirror_mode": "r",
   "file_extension": ".r",
   "mimetype": "text/x-r-source",
   "name": "R",
   "pygments_lexer": "r",
   "version": "4.3.3"
  }
 },
 "nbformat": 4,
 "nbformat_minor": 5
}
